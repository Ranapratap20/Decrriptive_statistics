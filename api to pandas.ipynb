{
 "cells": [
  {
   "cell_type": "code",
   "execution_count": 2,
   "metadata": {},
   "outputs": [],
   "source": [
    "import requests\n",
    "import pandas as pd"
   ]
  },
  {
   "cell_type": "code",
   "execution_count": 3,
   "metadata": {},
   "outputs": [],
   "source": [
    "responce=requests.get('https://api.themoviedb.org/3/movie/popular?api_key=359c04317627575b79217c88b4363a8d&language=en-US&page=10').json()"
   ]
  },
  {
   "cell_type": "code",
   "execution_count": 4,
   "metadata": {},
   "outputs": [
    {
     "name": "stderr",
     "output_type": "stream",
     "text": [
      "C:\\Users\\Windows 10\\AppData\\Local\\Temp\\ipykernel_13936\\2162607752.py:25: FutureWarning: The frame.append method is deprecated and will be removed from pandas in a future version. Use pandas.concat instead.\n",
      "  final=final.append(df,ignore_index=True)\n"
     ]
    }
   ],
   "source": [
    "final= pd.DataFrame()\n",
    "for j in range(1,21):\n",
    "    responce=requests.get('https://api.themoviedb.org/3/movie/popular?api_key=359c04317627575b79217c88b4363a8d&language=en-US&page={}'.format(j)).json()      \n",
    "    \n",
    "    popularity=[]\n",
    "    vote_count=[]\n",
    "    original_language=[]\n",
    "    title=[]\n",
    "    vote_average=[]\n",
    "    overview=[]\n",
    "    release_date=[]\n",
    "\n",
    "    for i in responce['results']:\n",
    "            popularity.append(i['popularity'])\n",
    "            vote_count.append(i['vote_count'])\n",
    "            original_language.append(i['original_language'])\n",
    "            title.append(i['title'])\n",
    "            vote_average.append(i['vote_average'])\n",
    "            overview.append(i['overview'])\n",
    "            release_date.append(i['release_date'])\n",
    "        \n",
    "            d={'title': title,'overview':overview,                   'original_language':original_language,'release_date':release_date, 'vote_average':vote_average,'popularity':popularity,'vote_count':vote_count}  \n",
    "\n",
    "            df=pd.DataFrame(d)\n",
    "            final=final.append(df,ignore_index=True)\n",
    "   \n",
    "        \n",
    "        "
   ]
  },
  {
   "cell_type": "code",
   "execution_count": null,
   "metadata": {},
   "outputs": [],
   "source": []
  }
 ],
 "metadata": {
  "kernelspec": {
   "display_name": "Python 3",
   "language": "python",
   "name": "python3"
  },
  "language_info": {
   "codemirror_mode": {
    "name": "ipython",
    "version": 3
   },
   "file_extension": ".py",
   "mimetype": "text/x-python",
   "name": "python",
   "nbconvert_exporter": "python",
   "pygments_lexer": "ipython3",
   "version": "3.10.5"
  },
  "orig_nbformat": 4,
  "vscode": {
   "interpreter": {
    "hash": "4000d5fabbf16d46b8685b20ddb4f1205c9618754029a947dbb2cc2ce311cc0f"
   }
  }
 },
 "nbformat": 4,
 "nbformat_minor": 2
}
