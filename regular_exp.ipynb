{
 "cells": [
  {
   "cell_type": "code",
   "execution_count": 1,
   "id": "21cbd7f4",
   "metadata": {},
   "outputs": [],
   "source": [
    "import re\n"
   ]
  },
  {
   "cell_type": "code",
   "execution_count": 2,
   "id": "97c73e08",
   "metadata": {},
   "outputs": [],
   "source": [
    "txt=\"\"\" yesterday i was driving my car without a driving licence.\n",
    "The trafic pollice stopped me and check my license.\n",
    "I told them i forgot my licence.\n",
    "\"\"\""
   ]
  },
  {
   "cell_type": "code",
   "execution_count": 3,
   "id": "f67eea19",
   "metadata": {},
   "outputs": [
    {
     "data": {
      "text/plain": [
       "['licence', 'license', 'licence']"
      ]
     },
     "execution_count": 3,
     "metadata": {},
     "output_type": "execute_result"
    }
   ],
   "source": [
    "pattern =re.compile(\"licen[cs]e\")\n",
    "pattern.findall(txt)"
   ]
  },
  {
   "cell_type": "code",
   "execution_count": 12,
   "id": "62a98143",
   "metadata": {},
   "outputs": [
    {
     "name": "stdout",
     "output_type": "stream",
     "text": [
      " ystrdy  ws drvng my cr wtht  drvng lcnc.\n",
      "Th trfc pllc stppd m nd chck my lcns.\n",
      "I tld thm  frgt my lcnc.\n",
      "\n"
     ]
    }
   ],
   "source": [
    "pattern=re.compile(\"[^aeiou]\")\n",
    "print(\"\".join(pattern.findall(txt)))"
   ]
  },
  {
   "cell_type": "code",
   "execution_count": 14,
   "id": "4b03b943",
   "metadata": {},
   "outputs": [
    {
     "data": {
      "text/plain": [
       "['dogs', 'dog']"
      ]
     },
     "execution_count": 14,
     "metadata": {},
     "output_type": "execute_result"
    }
   ],
   "source": [
    "txt=\"\"\"I have 2 dogs .I bought one dog in a year.\n",
    "\"\"\"\n",
    "\n",
    "pattern=re.compile(\"dogs?\")\n",
    "pattern.findall(txt)"
   ]
  },
  {
   "cell_type": "code",
   "execution_count": null,
   "id": "2c83490c",
   "metadata": {},
   "outputs": [],
   "source": []
  }
 ],
 "metadata": {
  "kernelspec": {
   "display_name": "Python 3",
   "language": "python",
   "name": "python3"
  },
  "language_info": {
   "codemirror_mode": {
    "name": "ipython",
    "version": 3
   },
   "file_extension": ".py",
   "mimetype": "text/x-python",
   "name": "python",
   "nbconvert_exporter": "python",
   "pygments_lexer": "ipython3",
   "version": "3.10.5 (tags/v3.10.5:f377153, Jun  6 2022, 16:14:13) [MSC v.1929 64 bit (AMD64)]"
  },
  "vscode": {
   "interpreter": {
    "hash": "4000d5fabbf16d46b8685b20ddb4f1205c9618754029a947dbb2cc2ce311cc0f"
   }
  }
 },
 "nbformat": 4,
 "nbformat_minor": 5
}
